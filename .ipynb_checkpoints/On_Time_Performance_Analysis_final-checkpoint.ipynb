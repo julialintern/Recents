{
 "cells": [
  {
   "cell_type": "markdown",
   "metadata": {
    "collapsed": true
   },
   "source": [
    "## On-Time Performance Analysis:\n",
    "####   I will illustrate how the Machine Learning Process can help identify 'Delay-Prone' flights ~potentially saving an airline over 600 million/ year"
   ]
  },
  {
   "cell_type": "markdown",
   "metadata": {
    "collapsed": true
   },
   "source": [
    "I am using ‘On-Time Performance’ data obtained from the United States Department of Transportation Site, which covers passenger airline travel within the US from 1987 to the present.  For my exploration and analysis, I have chosen my customer to be Southwest Airlines.    I have restricted my research to include Southwest’s data from 01/01/2014 through 02/28/2015.\n",
    "\n",
    "**0.1.1  QUESTION 1**: \n",
    "Can we predict and estimate the value of an ‘Aircraft Arrival Delay’ using machine learning (Linear Regression) methods?.    \n",
    "\n",
    "Business Application for Hypothesis I:\n",
    "The advantages of predicting arrival delays are numerous for airline corporations.  Primarily, ‘Timeliness of Arrival’ is the first benchmark utilized to rank airlines in the Customer Experience Benchmark  (Reference ACSI Travel Report 2015).     Hence, improved on-time performance, can lead to increased customer loyalty.   Further, airlines often pay customers a compensation fee for arrival delay.   With arrival delay predictions and estimations, airlines will be able to ‘pad’ the scheduled aircraft arrival time and thus prevent the delay altogether.\n",
    "\n",
    "If airlines are able to identify which flights have a high probability of delay, then they will also have the ability to take the following actions:\n",
    "•\tTailor manpower for specific flights that have a high probability of delay\n",
    "•\tTailor the flight schedule (if specific flight dates or airports are especially prone to delays)\n",
    "•\tUtilize potential delay information for fiscal planning \n",
    "\n",
    "\n",
    "By utilizing the scientific method, EDA and machine learning I will test Question 1.\n",
    "I will begin the process by pulling in the subject 01/2014-02/2015 data  and restricting ‘UniqueCarrier’ to Southwest."
   ]
  },
  {
   "cell_type": "code",
   "execution_count": 1,
   "metadata": {
    "collapsed": false
   },
   "outputs": [],
   "source": [
    "import seaborn as sns"
   ]
  },
  {
   "cell_type": "code",
   "execution_count": 1,
   "metadata": {
    "collapsed": false
   },
   "outputs": [
    {
     "name": "stdout",
     "output_type": "stream",
     "text": [
      "Populating the interactive namespace from numpy and matplotlib\n"
     ]
    }
   ],
   "source": [
    "% pylab inline"
   ]
  },
  {
   "cell_type": "code",
   "execution_count": 2,
   "metadata": {
    "collapsed": true
   },
   "outputs": [],
   "source": [
    "import pandas as pd\n",
    "import seaborn as sns\n",
    "from __future__ import division\n",
    "pd.set_option('display.max_rows', 500)\n",
    "pd.set_option('display.max_columns', 500)\n",
    "pd.set_option('display.width', 1000)\n",
    "pd.options.display.mpl_style = 'default'"
   ]
  },
  {
   "cell_type": "code",
   "execution_count": 47,
   "metadata": {
    "collapsed": true
   },
   "outputs": [],
   "source": [
    "import sklearn\n",
    "from sklearn import feature_selection as f_select\n",
    "from sklearn.cross_validation import train_test_split\n",
    "from sklearn import metrics\n",
    "from sklearn.cross_validation import cross_val_score"
   ]
  },
  {
   "cell_type": "code",
   "execution_count": 6,
   "metadata": {
    "collapsed": false
   },
   "outputs": [],
   "source": [
    "mydf=pd.read_csv(\"ALL_DATA.csv\")"
   ]
  },
  {
   "cell_type": "markdown",
   "metadata": {},
   "source": [
    "**0.1.2 DATA CLEANING**\n",
    "\n",
    "The following table illustrates that our retrieved data includes 1,364,847 samples.  However, not all of the ‘ArrDelayMinutes’ (ADM) target values are available.   Because of the direct relationship between ADM and DepDelayMinutes (DDM) (shown below in section 0.1.4) , I will fill ADM with the available DDM values and fill the remaining missing values in with the mean ADM value.  I also filled the missing ‘DepTime’ values by finding the average departure time for each ‘FlightNum’ value (by using a’ groupby ‘ & aggs function) and filling \n",
    "In DepTime for these average values.  "
   ]
  },
  {
   "cell_type": "code",
   "execution_count": 295,
   "metadata": {
    "collapsed": false
   },
   "outputs": [
    {
     "data": {
      "text/html": [
       "<div style=\"max-height:1000px;max-width:1500px;overflow:auto;\">\n",
       "<table border=\"1\" class=\"dataframe\">\n",
       "  <thead>\n",
       "    <tr style=\"text-align: right;\">\n",
       "      <th></th>\n",
       "      <th>Unnamed: 0</th>\n",
       "      <th>index</th>\n",
       "      <th>Month</th>\n",
       "      <th>DayOfWeek</th>\n",
       "      <th>DepDelayMinutes</th>\n",
       "      <th>ArrDelayMinutes</th>\n",
       "      <th>DepTime</th>\n",
       "      <th>ArrTime</th>\n",
       "      <th>Distance</th>\n",
       "      <th>CarrierDelay</th>\n",
       "      <th>WeatherDelay</th>\n",
       "      <th>NASDelay</th>\n",
       "      <th>SecurityDelay</th>\n",
       "      <th>LateAircraftDelay</th>\n",
       "      <th>TaxiOut</th>\n",
       "      <th>TaxiIn</th>\n",
       "      <th>FlightNum</th>\n",
       "      <th>target</th>\n",
       "      <th>tran_taxi</th>\n",
       "      <th>tran_dist</th>\n",
       "      <th>tran_in</th>\n",
       "    </tr>\n",
       "  </thead>\n",
       "  <tbody>\n",
       "    <tr>\n",
       "      <th>count</th>\n",
       "      <td>1364847.000000</td>\n",
       "      <td>1364847.00000</td>\n",
       "      <td>1364847.000000</td>\n",
       "      <td>1364847.000000</td>\n",
       "      <td>1344727.000000</td>\n",
       "      <td>1364847.000000</td>\n",
       "      <td>1344727.000000</td>\n",
       "      <td>1343790.000000</td>\n",
       "      <td>1364847.000000</td>\n",
       "      <td>334690.000000</td>\n",
       "      <td>334690.000000</td>\n",
       "      <td>334690.000000</td>\n",
       "      <td>334690.000000</td>\n",
       "      <td>334690.000000</td>\n",
       "      <td>1344526.000000</td>\n",
       "      <td>1343790.000000</td>\n",
       "      <td>1364847.000000</td>\n",
       "      <td>1.341341e+06</td>\n",
       "      <td>1344526.000000</td>\n",
       "      <td>1364847.000000</td>\n",
       "      <td>1343790.000000</td>\n",
       "    </tr>\n",
       "    <tr>\n",
       "      <th>mean</th>\n",
       "      <td>682423.000000</td>\n",
       "      <td>3361959.93137</td>\n",
       "      <td>5.859859</td>\n",
       "      <td>3.901061</td>\n",
       "      <td>15.402803</td>\n",
       "      <td>14.221670</td>\n",
       "      <td>1346.332453</td>\n",
       "      <td>1492.631024</td>\n",
       "      <td>716.450982</td>\n",
       "      <td>14.847058</td>\n",
       "      <td>1.613944</td>\n",
       "      <td>6.591278</td>\n",
       "      <td>0.044841</td>\n",
       "      <td>27.921895</td>\n",
       "      <td>11.598122</td>\n",
       "      <td>5.798865</td>\n",
       "      <td>1866.592647</td>\n",
       "      <td>-inf</td>\n",
       "      <td>2.361211</td>\n",
       "      <td>6.393146</td>\n",
       "      <td>1.636135</td>\n",
       "    </tr>\n",
       "    <tr>\n",
       "      <th>std</th>\n",
       "      <td>393997.535764</td>\n",
       "      <td>1931295.40660</td>\n",
       "      <td>3.624987</td>\n",
       "      <td>1.976821</td>\n",
       "      <td>32.421771</td>\n",
       "      <td>31.945116</td>\n",
       "      <td>475.125422</td>\n",
       "      <td>511.405645</td>\n",
       "      <td>444.312033</td>\n",
       "      <td>30.767265</td>\n",
       "      <td>12.764624</td>\n",
       "      <td>16.375500</td>\n",
       "      <td>1.342381</td>\n",
       "      <td>39.288600</td>\n",
       "      <td>6.188811</td>\n",
       "      <td>3.996851</td>\n",
       "      <td>1516.409562</td>\n",
       "      <td>NaN</td>\n",
       "      <td>0.394646</td>\n",
       "      <td>0.604052</td>\n",
       "      <td>0.450693</td>\n",
       "    </tr>\n",
       "    <tr>\n",
       "      <th>min</th>\n",
       "      <td>0.000000</td>\n",
       "      <td>255041.00000</td>\n",
       "      <td>1.000000</td>\n",
       "      <td>1.000000</td>\n",
       "      <td>0.000000</td>\n",
       "      <td>0.000000</td>\n",
       "      <td>1.000000</td>\n",
       "      <td>1.000000</td>\n",
       "      <td>148.000000</td>\n",
       "      <td>0.000000</td>\n",
       "      <td>0.000000</td>\n",
       "      <td>0.000000</td>\n",
       "      <td>0.000000</td>\n",
       "      <td>0.000000</td>\n",
       "      <td>1.000000</td>\n",
       "      <td>1.000000</td>\n",
       "      <td>1.000000</td>\n",
       "      <td>-inf</td>\n",
       "      <td>0.000000</td>\n",
       "      <td>4.997212</td>\n",
       "      <td>0.000000</td>\n",
       "    </tr>\n",
       "    <tr>\n",
       "      <th>25%</th>\n",
       "      <td>341211.500000</td>\n",
       "      <td>1618970.50000</td>\n",
       "      <td>2.000000</td>\n",
       "      <td>2.000000</td>\n",
       "      <td>0.000000</td>\n",
       "      <td>0.000000</td>\n",
       "      <td>933.000000</td>\n",
       "      <td>1112.000000</td>\n",
       "      <td>369.000000</td>\n",
       "      <td>0.000000</td>\n",
       "      <td>0.000000</td>\n",
       "      <td>0.000000</td>\n",
       "      <td>0.000000</td>\n",
       "      <td>1.000000</td>\n",
       "      <td>8.000000</td>\n",
       "      <td>4.000000</td>\n",
       "      <td>541.000000</td>\n",
       "      <td>NaN</td>\n",
       "      <td>2.079442</td>\n",
       "      <td>5.910797</td>\n",
       "      <td>1.386294</td>\n",
       "    </tr>\n",
       "    <tr>\n",
       "      <th>50%</th>\n",
       "      <td>682423.000000</td>\n",
       "      <td>3180210.00000</td>\n",
       "      <td>6.000000</td>\n",
       "      <td>4.000000</td>\n",
       "      <td>2.000000</td>\n",
       "      <td>0.000000</td>\n",
       "      <td>1335.000000</td>\n",
       "      <td>1521.000000</td>\n",
       "      <td>589.000000</td>\n",
       "      <td>6.000000</td>\n",
       "      <td>0.000000</td>\n",
       "      <td>0.000000</td>\n",
       "      <td>0.000000</td>\n",
       "      <td>16.000000</td>\n",
       "      <td>10.000000</td>\n",
       "      <td>5.000000</td>\n",
       "      <td>1404.000000</td>\n",
       "      <td>NaN</td>\n",
       "      <td>2.302585</td>\n",
       "      <td>6.378426</td>\n",
       "      <td>1.609438</td>\n",
       "    </tr>\n",
       "    <tr>\n",
       "      <th>75%</th>\n",
       "      <td>1023634.500000</td>\n",
       "      <td>4924617.50000</td>\n",
       "      <td>9.000000</td>\n",
       "      <td>6.000000</td>\n",
       "      <td>17.000000</td>\n",
       "      <td>14.221670</td>\n",
       "      <td>1742.000000</td>\n",
       "      <td>1919.000000</td>\n",
       "      <td>957.000000</td>\n",
       "      <td>16.000000</td>\n",
       "      <td>0.000000</td>\n",
       "      <td>7.000000</td>\n",
       "      <td>0.000000</td>\n",
       "      <td>35.000000</td>\n",
       "      <td>13.000000</td>\n",
       "      <td>6.000000</td>\n",
       "      <td>3134.000000</td>\n",
       "      <td>2.639057e+00</td>\n",
       "      <td>2.564949</td>\n",
       "      <td>6.863803</td>\n",
       "      <td>1.791759</td>\n",
       "    </tr>\n",
       "    <tr>\n",
       "      <th>max</th>\n",
       "      <td>1364846.000000</td>\n",
       "      <td>6598093.00000</td>\n",
       "      <td>12.000000</td>\n",
       "      <td>7.000000</td>\n",
       "      <td>843.000000</td>\n",
       "      <td>825.000000</td>\n",
       "      <td>2400.000000</td>\n",
       "      <td>2400.000000</td>\n",
       "      <td>2447.000000</td>\n",
       "      <td>825.000000</td>\n",
       "      <td>680.000000</td>\n",
       "      <td>506.000000</td>\n",
       "      <td>207.000000</td>\n",
       "      <td>683.000000</td>\n",
       "      <td>177.000000</td>\n",
       "      <td>246.000000</td>\n",
       "      <td>4999.000000</td>\n",
       "      <td>6.715383e+00</td>\n",
       "      <td>5.176150</td>\n",
       "      <td>7.802618</td>\n",
       "      <td>5.505332</td>\n",
       "    </tr>\n",
       "  </tbody>\n",
       "</table>\n",
       "</div>"
      ],
      "text/plain": [
       "           Unnamed: 0          index           Month       DayOfWeek  DepDelayMinutes  ArrDelayMinutes         DepTime         ArrTime        Distance   CarrierDelay   WeatherDelay       NASDelay  SecurityDelay  LateAircraftDelay         TaxiOut          TaxiIn       FlightNum        target       tran_taxi       tran_dist         tran_in\n",
       "count  1364847.000000  1364847.00000  1364847.000000  1364847.000000   1344727.000000   1364847.000000  1344727.000000  1343790.000000  1364847.000000  334690.000000  334690.000000  334690.000000  334690.000000      334690.000000  1344526.000000  1343790.000000  1364847.000000  1.341341e+06  1344526.000000  1364847.000000  1343790.000000\n",
       "mean    682423.000000  3361959.93137        5.859859        3.901061        15.402803        14.221670     1346.332453     1492.631024      716.450982      14.847058       1.613944       6.591278       0.044841          27.921895       11.598122        5.798865     1866.592647          -inf        2.361211        6.393146        1.636135\n",
       "std     393997.535764  1931295.40660        3.624987        1.976821        32.421771        31.945116      475.125422      511.405645      444.312033      30.767265      12.764624      16.375500       1.342381          39.288600        6.188811        3.996851     1516.409562           NaN        0.394646        0.604052        0.450693\n",
       "min          0.000000   255041.00000        1.000000        1.000000         0.000000         0.000000        1.000000        1.000000      148.000000       0.000000       0.000000       0.000000       0.000000           0.000000        1.000000        1.000000        1.000000          -inf        0.000000        4.997212        0.000000\n",
       "25%     341211.500000  1618970.50000        2.000000        2.000000         0.000000         0.000000      933.000000     1112.000000      369.000000       0.000000       0.000000       0.000000       0.000000           1.000000        8.000000        4.000000      541.000000           NaN        2.079442        5.910797        1.386294\n",
       "50%     682423.000000  3180210.00000        6.000000        4.000000         2.000000         0.000000     1335.000000     1521.000000      589.000000       6.000000       0.000000       0.000000       0.000000          16.000000       10.000000        5.000000     1404.000000           NaN        2.302585        6.378426        1.609438\n",
       "75%    1023634.500000  4924617.50000        9.000000        6.000000        17.000000        14.221670     1742.000000     1919.000000      957.000000      16.000000       0.000000       7.000000       0.000000          35.000000       13.000000        6.000000     3134.000000  2.639057e+00        2.564949        6.863803        1.791759\n",
       "max    1364846.000000  6598093.00000       12.000000        7.000000       843.000000       825.000000     2400.000000     2400.000000     2447.000000     825.000000     680.000000     506.000000     207.000000         683.000000      177.000000      246.000000     4999.000000  6.715383e+00        5.176150        7.802618        5.505332"
      ]
     },
     "execution_count": 295,
     "metadata": {},
     "output_type": "execute_result"
    }
   ],
   "source": [
    "mydf.describe()"
   ]
  },
  {
   "cell_type": "code",
   "execution_count": 7,
   "metadata": {
    "collapsed": false
   },
   "outputs": [],
   "source": [
    "# Fillna for 'DepTime':\n",
    "\n",
    "\n",
    "FNgb=mydf.groupby(['FlightNum'])\n",
    "FNgb=FNgb.agg({'DepTime':'mean'})\n",
    "FNgb.head()\n",
    "            \n",
    "    \n",
    "FNgb=FNgb.reset_index()\n",
    "\n",
    "#  Creating dict for FlightNum & Average Departure times\n",
    "fbdic={}\n",
    "\n",
    "for i in FNgb.index:\n",
    "    fbdic[FNgb.FlightNum[i]]=FNgb.DepTime[i]\n",
    "\n",
    "\n",
    "mydf['create']=mydf.FlightNum.map(fbdic.get)"
   ]
  },
  {
   "cell_type": "code",
   "execution_count": 8,
   "metadata": {
    "collapsed": false
   },
   "outputs": [],
   "source": [
    "# Populating Missing Arrival times based on 'fbdic' dictionary: \n",
    "\n",
    "FNgb=mydf.groupby(['FlightNum'])\n",
    "FNgb=FNgb.agg({'ArrTime':'mean'})\n",
    "FNgb.head()\n",
    "            \n",
    "    \n",
    "FNgb=FNgb.reset_index()\n",
    "fbdic2={}\n",
    "\n",
    "for i in FNgb.index:\n",
    "    fbdic2[FNgb.FlightNum[i]]=FNgb.ArrTime[i]\n",
    "    \n",
    "mydf['ArrTime']=mydf['ArrTime'].fillna(mydf.create)"
   ]
  },
  {
   "cell_type": "code",
   "execution_count": 9,
   "metadata": {
    "collapsed": true
   },
   "outputs": [],
   "source": [
    "# Populating Missing Departure times based on 'fbdic' dictionary: \n",
    "mydf['DepTime']=mydf['DepTime'].fillna(mydf.create)"
   ]
  },
  {
   "cell_type": "code",
   "execution_count": 10,
   "metadata": {
    "collapsed": false
   },
   "outputs": [],
   "source": [
    "mydf.TaxiOut=mydf.TaxiOut.fillna(mydf.TaxiOut.mean())"
   ]
  },
  {
   "cell_type": "code",
   "execution_count": 11,
   "metadata": {
    "collapsed": true
   },
   "outputs": [],
   "source": [
    "mydf.TaxiIn=mydf.TaxiIn.fillna(mydf.TaxiIn.mean())"
   ]
  },
  {
   "cell_type": "markdown",
   "metadata": {},
   "source": [
    "**0.1.3  FEATURES AND FEATURE GENERATION**:\n",
    "Because Southwest will be utilizing the results of this analysis for long term planning purposes and forecasting, I only will be using features that Southwest will be able to determine in advance.    For example: ‘DepartureDelayMinutes’ (DDM)  has a very direct correlation with ArrivalDelayMinutes,  but I won’t use this feature because Southwest will not be able to determine this variable in advance.\n",
    "\n",
    "Feature Generation:\n",
    "\n",
    "1) Layover Minutes:\n",
    "The number of minutes between flights seems to be a powerful predictor for delays (if there is a longer ‘layover’, the technical crew will have more time to address the problem before departure.   Thus, I will create a new feature column (‘Between’)  based on the layover time between consecutive flights for identical ‘Tailnumbers ‘ at identical airports. (Note: in order to calculate this correctly, I created two additional columns: ‘Scheduleduled_Dep = Deptime-DepDelayMinutes and Scheduled_Arr=ArrTime-ArrDelayMinutes)\n",
    "\n",
    "2) Airport Rankings\n",
    "I also created a feature (‘Best_Origins’) based on the ‘delay ranking’ of each origin airport.  The origin that had incurred the least amount of delays (within the dataset) received a rank of ‘0’.     I then created a similar feature called ‘Best_Dest’ based off of Destination rankings.\n",
    "\n",
    "\n",
    "Feature Choice: \n",
    "\n",
    "3) FlightNum:   \n",
    "I choose this feature because of its predictive potential due to its inherent order (small flight numbers occur early in the day, etc)\n",
    "Note that if a flight is late in the day, it is more likely that the flight will be delayed due to previous delays that were incurred and accumulated throughout the day.  \n",
    "\n",
    "4) Distance:    \n",
    "I chose ‘Distance’ because (based on the following table), we can see that not all flights that incurred departure delays result in delays upon arrival.   If the subject flight is relatively long, we can assume that some time lost during a departure delay could be potentially recovered during the flight.\n",
    "\n",
    "5) TaxiIn and TaxiOut\n",
    "Naturally, I chose ‘Taxi’ features because long taxi times could in turn result in arrival delays.\n"
   ]
  },
  {
   "cell_type": "code",
   "execution_count": 12,
   "metadata": {
    "collapsed": false
   },
   "outputs": [],
   "source": [
    "# 1 'Developing 'Between' Feature ~ Layover Minutes\n",
    "\n",
    "mydf=mydf.sort(['TailNum','FlightDate','DepTime'])\n",
    "mydf['Scheduled_Dep']=mydf.DepTime-mydf.DepDelayMinutes\n",
    "mydf['Scheduled_Arr']=mydf.ArrTime-mydf.ArrDelayMinutes"
   ]
  },
  {
   "cell_type": "code",
   "execution_count": 13,
   "metadata": {
    "collapsed": false
   },
   "outputs": [],
   "source": [
    "# Getting value and then test for 'Between'\n",
    "\n",
    "mydf['Between']=mydf.Scheduled_Dep-mydf.Scheduled_Arr.shift(1)\n",
    "mydf.Between=mydf.Between.where(mydf.FlightDate== mydf.FlightDate.shift(1),mydf.Origin== mydf.Dest.shift(1))\n",
    "mydf.Between=mydf.Between.where(mydf.TailNum== mydf.TailNum.shift(1))"
   ]
  },
  {
   "cell_type": "code",
   "execution_count": 14,
   "metadata": {
    "collapsed": true
   },
   "outputs": [],
   "source": [
    "mydf.Between=mydf.Between.fillna(mydf.Between.mean())"
   ]
  },
  {
   "cell_type": "code",
   "execution_count": 15,
   "metadata": {
    "collapsed": true
   },
   "outputs": [],
   "source": [
    "# Determine if a delay occurred (or not) for each sample (will need this for following cell.. \n",
    "\n",
    "def GROUPS(x):\n",
    "    if x==0:\n",
    "        return 0\n",
    "    else:\n",
    "        return 1\n",
    "\n",
    "mydf['IsDelay']=mydf.ArrDelayMinutes.apply(GROUPS)"
   ]
  },
  {
   "cell_type": "code",
   "execution_count": 16,
   "metadata": {
    "collapsed": false
   },
   "outputs": [
    {
     "data": {
      "text/html": [
       "<div style=\"max-height:1000px;max-width:1500px;overflow:auto;\">\n",
       "<table border=\"1\" class=\"dataframe\">\n",
       "  <thead>\n",
       "    <tr style=\"text-align: right;\">\n",
       "      <th></th>\n",
       "      <th>Unnamed: 0</th>\n",
       "      <th>index</th>\n",
       "      <th>Month</th>\n",
       "      <th>DayOfWeek</th>\n",
       "      <th>DepDelayMinutes</th>\n",
       "      <th>ArrDelayMinutes</th>\n",
       "      <th>DepTime</th>\n",
       "      <th>ArrTime</th>\n",
       "      <th>Distance</th>\n",
       "      <th>CarrierDelay</th>\n",
       "      <th>WeatherDelay</th>\n",
       "      <th>NASDelay</th>\n",
       "      <th>SecurityDelay</th>\n",
       "      <th>LateAircraftDelay</th>\n",
       "      <th>TaxiOut</th>\n",
       "      <th>TaxiIn</th>\n",
       "      <th>FlightNum</th>\n",
       "      <th>target</th>\n",
       "      <th>tran_taxi</th>\n",
       "      <th>tran_dist</th>\n",
       "      <th>tran_in</th>\n",
       "      <th>create</th>\n",
       "      <th>Scheduled_Dep</th>\n",
       "      <th>Scheduled_Arr</th>\n",
       "      <th>Between</th>\n",
       "      <th>IsDelay</th>\n",
       "    </tr>\n",
       "  </thead>\n",
       "  <tbody>\n",
       "    <tr>\n",
       "      <th>count</th>\n",
       "      <td>1364847.000000</td>\n",
       "      <td>1364847.00000</td>\n",
       "      <td>1364847.000000</td>\n",
       "      <td>1364847.000000</td>\n",
       "      <td>1344727.000000</td>\n",
       "      <td>1364847.000000</td>\n",
       "      <td>1364846.000000</td>\n",
       "      <td>1364846.000000</td>\n",
       "      <td>1364847.000000</td>\n",
       "      <td>334690.000000</td>\n",
       "      <td>334690.000000</td>\n",
       "      <td>334690.000000</td>\n",
       "      <td>334690.000000</td>\n",
       "      <td>334690.000000</td>\n",
       "      <td>1364847.000000</td>\n",
       "      <td>1364847.000000</td>\n",
       "      <td>1364847.000000</td>\n",
       "      <td>1.341341e+06</td>\n",
       "      <td>1344526.000000</td>\n",
       "      <td>1364847.000000</td>\n",
       "      <td>1343790.000000</td>\n",
       "      <td>1364846.000000</td>\n",
       "      <td>1344727.000000</td>\n",
       "      <td>1364846.000000</td>\n",
       "      <td>1364847.000000</td>\n",
       "      <td>1364847.000000</td>\n",
       "    </tr>\n",
       "    <tr>\n",
       "      <th>mean</th>\n",
       "      <td>682423.000000</td>\n",
       "      <td>3361959.93137</td>\n",
       "      <td>5.859859</td>\n",
       "      <td>3.901061</td>\n",
       "      <td>15.402803</td>\n",
       "      <td>14.221670</td>\n",
       "      <td>1346.244588</td>\n",
       "      <td>1490.290327</td>\n",
       "      <td>716.450982</td>\n",
       "      <td>14.847058</td>\n",
       "      <td>1.613944</td>\n",
       "      <td>6.591278</td>\n",
       "      <td>0.044841</td>\n",
       "      <td>27.921895</td>\n",
       "      <td>11.598122</td>\n",
       "      <td>5.798865</td>\n",
       "      <td>1866.592647</td>\n",
       "      <td>-inf</td>\n",
       "      <td>2.361211</td>\n",
       "      <td>6.393146</td>\n",
       "      <td>1.636135</td>\n",
       "      <td>1346.244588</td>\n",
       "      <td>1330.929650</td>\n",
       "      <td>1476.068657</td>\n",
       "      <td>60.037107</td>\n",
       "      <td>0.479636</td>\n",
       "    </tr>\n",
       "    <tr>\n",
       "      <th>std</th>\n",
       "      <td>393997.535764</td>\n",
       "      <td>1931295.40660</td>\n",
       "      <td>3.624987</td>\n",
       "      <td>1.976821</td>\n",
       "      <td>32.421771</td>\n",
       "      <td>31.945116</td>\n",
       "      <td>472.224913</td>\n",
       "      <td>508.388838</td>\n",
       "      <td>444.312033</td>\n",
       "      <td>30.767265</td>\n",
       "      <td>12.764624</td>\n",
       "      <td>16.375500</td>\n",
       "      <td>1.342381</td>\n",
       "      <td>39.288600</td>\n",
       "      <td>6.142566</td>\n",
       "      <td>3.965899</td>\n",
       "      <td>1516.409562</td>\n",
       "      <td>NaN</td>\n",
       "      <td>0.394646</td>\n",
       "      <td>0.604052</td>\n",
       "      <td>0.450693</td>\n",
       "      <td>197.514742</td>\n",
       "      <td>465.508034</td>\n",
       "      <td>505.922225</td>\n",
       "      <td>63.867512</td>\n",
       "      <td>0.499585</td>\n",
       "    </tr>\n",
       "    <tr>\n",
       "      <th>min</th>\n",
       "      <td>0.000000</td>\n",
       "      <td>255041.00000</td>\n",
       "      <td>1.000000</td>\n",
       "      <td>1.000000</td>\n",
       "      <td>0.000000</td>\n",
       "      <td>0.000000</td>\n",
       "      <td>1.000000</td>\n",
       "      <td>1.000000</td>\n",
       "      <td>148.000000</td>\n",
       "      <td>0.000000</td>\n",
       "      <td>0.000000</td>\n",
       "      <td>0.000000</td>\n",
       "      <td>0.000000</td>\n",
       "      <td>0.000000</td>\n",
       "      <td>1.000000</td>\n",
       "      <td>1.000000</td>\n",
       "      <td>1.000000</td>\n",
       "      <td>-inf</td>\n",
       "      <td>0.000000</td>\n",
       "      <td>4.997212</td>\n",
       "      <td>0.000000</td>\n",
       "      <td>7.000000</td>\n",
       "      <td>-535.000000</td>\n",
       "      <td>-520.000000</td>\n",
       "      <td>-2310.000000</td>\n",
       "      <td>0.000000</td>\n",
       "    </tr>\n",
       "    <tr>\n",
       "      <th>25%</th>\n",
       "      <td>341211.500000</td>\n",
       "      <td>1618970.50000</td>\n",
       "      <td>2.000000</td>\n",
       "      <td>2.000000</td>\n",
       "      <td>0.000000</td>\n",
       "      <td>0.000000</td>\n",
       "      <td>937.000000</td>\n",
       "      <td>1113.000000</td>\n",
       "      <td>369.000000</td>\n",
       "      <td>0.000000</td>\n",
       "      <td>0.000000</td>\n",
       "      <td>0.000000</td>\n",
       "      <td>0.000000</td>\n",
       "      <td>1.000000</td>\n",
       "      <td>8.000000</td>\n",
       "      <td>4.000000</td>\n",
       "      <td>541.000000</td>\n",
       "      <td>NaN</td>\n",
       "      <td>2.079442</td>\n",
       "      <td>5.910797</td>\n",
       "      <td>1.386294</td>\n",
       "      <td>1218.222222</td>\n",
       "      <td>929.000000</td>\n",
       "      <td>1108.000000</td>\n",
       "      <td>30.000000</td>\n",
       "      <td>0.000000</td>\n",
       "    </tr>\n",
       "    <tr>\n",
       "      <th>50%</th>\n",
       "      <td>682423.000000</td>\n",
       "      <td>3180210.00000</td>\n",
       "      <td>6.000000</td>\n",
       "      <td>4.000000</td>\n",
       "      <td>2.000000</td>\n",
       "      <td>0.000000</td>\n",
       "      <td>1335.000000</td>\n",
       "      <td>1516.000000</td>\n",
       "      <td>589.000000</td>\n",
       "      <td>6.000000</td>\n",
       "      <td>0.000000</td>\n",
       "      <td>0.000000</td>\n",
       "      <td>0.000000</td>\n",
       "      <td>16.000000</td>\n",
       "      <td>10.000000</td>\n",
       "      <td>5.000000</td>\n",
       "      <td>1404.000000</td>\n",
       "      <td>NaN</td>\n",
       "      <td>2.302585</td>\n",
       "      <td>6.378426</td>\n",
       "      <td>1.609438</td>\n",
       "      <td>1343.452381</td>\n",
       "      <td>1325.000000</td>\n",
       "      <td>1505.000000</td>\n",
       "      <td>70.000000</td>\n",
       "      <td>0.000000</td>\n",
       "    </tr>\n",
       "    <tr>\n",
       "      <th>75%</th>\n",
       "      <td>1023634.500000</td>\n",
       "      <td>4924617.50000</td>\n",
       "      <td>9.000000</td>\n",
       "      <td>6.000000</td>\n",
       "      <td>17.000000</td>\n",
       "      <td>14.221670</td>\n",
       "      <td>1739.000000</td>\n",
       "      <td>1915.000000</td>\n",
       "      <td>957.000000</td>\n",
       "      <td>16.000000</td>\n",
       "      <td>0.000000</td>\n",
       "      <td>7.000000</td>\n",
       "      <td>0.000000</td>\n",
       "      <td>35.000000</td>\n",
       "      <td>13.000000</td>\n",
       "      <td>6.000000</td>\n",
       "      <td>3134.000000</td>\n",
       "      <td>2.639057e+00</td>\n",
       "      <td>2.564949</td>\n",
       "      <td>6.863803</td>\n",
       "      <td>1.791759</td>\n",
       "      <td>1472.398703</td>\n",
       "      <td>1725.000000</td>\n",
       "      <td>1895.000000</td>\n",
       "      <td>81.000000</td>\n",
       "      <td>1.000000</td>\n",
       "    </tr>\n",
       "    <tr>\n",
       "      <th>max</th>\n",
       "      <td>1364846.000000</td>\n",
       "      <td>6598093.00000</td>\n",
       "      <td>12.000000</td>\n",
       "      <td>7.000000</td>\n",
       "      <td>843.000000</td>\n",
       "      <td>825.000000</td>\n",
       "      <td>2400.000000</td>\n",
       "      <td>2400.000000</td>\n",
       "      <td>2447.000000</td>\n",
       "      <td>825.000000</td>\n",
       "      <td>680.000000</td>\n",
       "      <td>506.000000</td>\n",
       "      <td>207.000000</td>\n",
       "      <td>683.000000</td>\n",
       "      <td>177.000000</td>\n",
       "      <td>246.000000</td>\n",
       "      <td>4999.000000</td>\n",
       "      <td>6.715383e+00</td>\n",
       "      <td>5.176150</td>\n",
       "      <td>7.802618</td>\n",
       "      <td>5.505332</td>\n",
       "      <td>2165.800000</td>\n",
       "      <td>2325.000000</td>\n",
       "      <td>2400.000000</td>\n",
       "      <td>2170.000000</td>\n",
       "      <td>1.000000</td>\n",
       "    </tr>\n",
       "  </tbody>\n",
       "</table>\n",
       "</div>"
      ],
      "text/plain": [
       "           Unnamed: 0          index           Month       DayOfWeek  DepDelayMinutes  ArrDelayMinutes         DepTime         ArrTime        Distance   CarrierDelay   WeatherDelay       NASDelay  SecurityDelay  LateAircraftDelay         TaxiOut          TaxiIn       FlightNum        target       tran_taxi       tran_dist         tran_in          create   Scheduled_Dep   Scheduled_Arr         Between         IsDelay\n",
       "count  1364847.000000  1364847.00000  1364847.000000  1364847.000000   1344727.000000   1364847.000000  1364846.000000  1364846.000000  1364847.000000  334690.000000  334690.000000  334690.000000  334690.000000      334690.000000  1364847.000000  1364847.000000  1364847.000000  1.341341e+06  1344526.000000  1364847.000000  1343790.000000  1364846.000000  1344727.000000  1364846.000000  1364847.000000  1364847.000000\n",
       "mean    682423.000000  3361959.93137        5.859859        3.901061        15.402803        14.221670     1346.244588     1490.290327      716.450982      14.847058       1.613944       6.591278       0.044841          27.921895       11.598122        5.798865     1866.592647          -inf        2.361211        6.393146        1.636135     1346.244588     1330.929650     1476.068657       60.037107        0.479636\n",
       "std     393997.535764  1931295.40660        3.624987        1.976821        32.421771        31.945116      472.224913      508.388838      444.312033      30.767265      12.764624      16.375500       1.342381          39.288600        6.142566        3.965899     1516.409562           NaN        0.394646        0.604052        0.450693      197.514742      465.508034      505.922225       63.867512        0.499585\n",
       "min          0.000000   255041.00000        1.000000        1.000000         0.000000         0.000000        1.000000        1.000000      148.000000       0.000000       0.000000       0.000000       0.000000           0.000000        1.000000        1.000000        1.000000          -inf        0.000000        4.997212        0.000000        7.000000     -535.000000     -520.000000    -2310.000000        0.000000\n",
       "25%     341211.500000  1618970.50000        2.000000        2.000000         0.000000         0.000000      937.000000     1113.000000      369.000000       0.000000       0.000000       0.000000       0.000000           1.000000        8.000000        4.000000      541.000000           NaN        2.079442        5.910797        1.386294     1218.222222      929.000000     1108.000000       30.000000        0.000000\n",
       "50%     682423.000000  3180210.00000        6.000000        4.000000         2.000000         0.000000     1335.000000     1516.000000      589.000000       6.000000       0.000000       0.000000       0.000000          16.000000       10.000000        5.000000     1404.000000           NaN        2.302585        6.378426        1.609438     1343.452381     1325.000000     1505.000000       70.000000        0.000000\n",
       "75%    1023634.500000  4924617.50000        9.000000        6.000000        17.000000        14.221670     1739.000000     1915.000000      957.000000      16.000000       0.000000       7.000000       0.000000          35.000000       13.000000        6.000000     3134.000000  2.639057e+00        2.564949        6.863803        1.791759     1472.398703     1725.000000     1895.000000       81.000000        1.000000\n",
       "max    1364846.000000  6598093.00000       12.000000        7.000000       843.000000       825.000000     2400.000000     2400.000000     2447.000000     825.000000     680.000000     506.000000     207.000000         683.000000      177.000000      246.000000     4999.000000  6.715383e+00        5.176150        7.802618        5.505332     2165.800000     2325.000000     2400.000000     2170.000000        1.000000"
      ]
     },
     "execution_count": 16,
     "metadata": {},
     "output_type": "execute_result"
    }
   ],
   "source": [
    "mydf.describe()"
   ]
  },
  {
   "cell_type": "code",
   "execution_count": 17,
   "metadata": {
    "collapsed": false
   },
   "outputs": [
    {
     "data": {
      "text/html": [
       "<div style=\"max-height:1000px;max-width:1500px;overflow:auto;\">\n",
       "<table border=\"1\" class=\"dataframe\">\n",
       "  <thead>\n",
       "    <tr style=\"text-align: right;\">\n",
       "      <th></th>\n",
       "      <th>Origin</th>\n",
       "      <th>IsDelay</th>\n",
       "    </tr>\n",
       "  </thead>\n",
       "  <tbody>\n",
       "    <tr>\n",
       "      <th>0</th>\n",
       "      <td>BKG</td>\n",
       "      <td>223</td>\n",
       "    </tr>\n",
       "    <tr>\n",
       "      <th>1</th>\n",
       "      <td>EYW</td>\n",
       "      <td>257</td>\n",
       "    </tr>\n",
       "    <tr>\n",
       "      <th>2</th>\n",
       "      <td>JAN</td>\n",
       "      <td>288</td>\n",
       "    </tr>\n",
       "    <tr>\n",
       "      <th>3</th>\n",
       "      <td>PNS</td>\n",
       "      <td>380</td>\n",
       "    </tr>\n",
       "    <tr>\n",
       "      <th>4</th>\n",
       "      <td>RIC</td>\n",
       "      <td>423</td>\n",
       "    </tr>\n",
       "  </tbody>\n",
       "</table>\n",
       "</div>"
      ],
      "text/plain": [
       "  Origin  IsDelay\n",
       "0    BKG      223\n",
       "1    EYW      257\n",
       "2    JAN      288\n",
       "3    PNS      380\n",
       "4    RIC      423"
      ]
     },
     "execution_count": 17,
     "metadata": {},
     "output_type": "execute_result"
    }
   ],
   "source": [
    "# 2 'Developing Airport Rankings' : (Following illustrates 'Best Airports' ~ fewest delays)\n",
    "\n",
    "rank=mydf.groupby(['Origin'])\n",
    "rank=rank.agg({'IsDelay':'sum'})\n",
    "\n",
    "\n",
    "rank=rank.sort('IsDelay')\n",
    "rank=rank.reset_index()\n",
    "\n",
    "rank.head()"
   ]
  },
  {
   "cell_type": "code",
   "execution_count": 18,
   "metadata": {
    "collapsed": false
   },
   "outputs": [],
   "source": [
    "# create Origin ranks dictionary\n",
    "ranks={}\n",
    "\n",
    "for i in rank.index:\n",
    "    ranks[rank.Origin[i]]=i"
   ]
  },
  {
   "cell_type": "code",
   "execution_count": 19,
   "metadata": {
    "collapsed": false
   },
   "outputs": [],
   "source": [
    "# creating features for Airport Rankings: \n",
    "mydf['Best_Origin']=mydf.Origin.apply(lambda x: ranks[x])\n",
    "mydf['Best_Dest']=mydf.Dest.apply(lambda x: ranks[x])"
   ]
  },
  {
   "cell_type": "markdown",
   "metadata": {},
   "source": [
    "**0.1.4 VISUALIZATION **\n",
    "\n",
    "I can visualize the relationship between my chosen features and my target variable: ArrDelayMinutes(ADM) using Matplotlib’s scatterplot matrix.  The matrix illustrates how any two variables relate to each other and along the diagonal a histogram is displayed for the ith variable.  By studying the scatter matrix plot below, we can see that there is some correlation between ‘DepTime’, ‘Best_Dest’ and ‘Best_Origin’, and either neutral or inverse relationships for the rest of the variables.   \n"
   ]
  },
  {
   "cell_type": "code",
   "execution_count": null,
   "metadata": {
    "collapsed": false
   },
   "outputs": [],
   "source": [
    "visual=mydf[['ArrDelayMinutes','DepTime','Distance','TaxiOut','TaxiIn','FlightNum','Between','Best_Origin','Best_Dest']]\n",
    "pd.scatter_matrix(visual, figsize=(20, 20))"
   ]
  },
  {
   "cell_type": "markdown",
   "metadata": {},
   "source": [
    "<img src=\"scatterplot.png\">"
   ]
  },
  {
   "cell_type": "markdown",
   "metadata": {},
   "source": [
    "**0.1.5  CONCLUSION:**\n",
    "\n",
    "At this point, I’ve determined that the predictive power for the selected features is relatively weak for ADM prediction.  I will abandon the idea of a continuous target variable and move onto classification as follows. \n"
   ]
  },
  {
   "cell_type": "markdown",
   "metadata": {},
   "source": [
    "**0.2.1  QUESTION 2**:   \n",
    "Can we predict if an Arrival Delay will occur or not by using machine learning methods for classification?\n",
    "Note: The business application described in Question 1  also applies to Question 2.\n"
   ]
  },
  {
   "cell_type": "markdown",
   "metadata": {},
   "source": [
    "**0.2.2  GENERATING  THE TARGET VARIABLE**:   \n",
    "I will use the 'IsDelay' column ( binary value based on whether a delay occurred (whether ADM = 0) or not) as my target variable.  We see target variable distribution below:"
   ]
  },
  {
   "cell_type": "code",
   "execution_count": null,
   "metadata": {
    "collapsed": false
   },
   "outputs": [],
   "source": [
    "sns.set_style('white')\n",
    "plt.figure(figsize=(8,6))\n",
    "plt.hist(mydf.IsDelay,bins=10)\n",
    "plt.title('Histogram of Target Variable: IsDelay')"
   ]
  },
  {
   "cell_type": "markdown",
   "metadata": {},
   "source": [
    "<img src=\"histogram.png\">"
   ]
  },
  {
   "cell_type": "markdown",
   "metadata": {},
   "source": [
    "**0.2.3    FEATURE CHOICE & TRANSFORMING CATEGORICAL DATA**\n",
    "\n",
    "I will begin my classification analysis using the same features developed for Question 1.   I am interested in exploring the predictive power of Decision trees for my next model.   Decision Trees are known to handle both continuous and binary features relatively well.    As follows, I will convert categorical variables for ‘Month’  and ‘DayOfWeek’.  I will determine which months and days to adjoin to my model based on their relative predictive strength  (predictive strength was determined by calculating the mean ‘IsDelay’ value for each month and weekday (month calculations shown below).   (Note: I also tested ‘TailNum’, to see if any aircraft performed relatively poorly.  However, no aircraft passed the predictive threshold test)."
   ]
  },
  {
   "cell_type": "code",
   "execution_count": 20,
   "metadata": {
    "collapsed": true
   },
   "outputs": [],
   "source": [
    "mydf['DayOfWeek'] = mydf.DayOfWeek.map({7:'Sunday',1:'Monday',2:'Tuesday',3:'Wednesday',4:'Thursday',5:'Friday',6:'Saturday'})"
   ]
  },
  {
   "cell_type": "code",
   "execution_count": 21,
   "metadata": {
    "collapsed": false
   },
   "outputs": [
    {
     "name": "stdout",
     "output_type": "stream",
     "text": [
      "0.479636179\n",
      "0.499585325707\n"
     ]
    }
   ],
   "source": [
    "mean=mydf.IsDelay.mean()\n",
    "print mean\n",
    "\n",
    "std=mydf.IsDelay.std()\n",
    "print std"
   ]
  },
  {
   "cell_type": "code",
   "execution_count": 22,
   "metadata": {
    "collapsed": false
   },
   "outputs": [
    {
     "name": "stdout",
     "output_type": "stream",
     "text": [
      "0.484759080801\n",
      "0.467628307692\n",
      "0.478642317602\n",
      "0.51844062933\n",
      "0.508925064802\n",
      "0.422211335499\n",
      "0.464508394598\n",
      "['Monday', 'Thursday', 'Friday']\n"
     ]
    }
   ],
   "source": [
    "# Following test will determine which days of the week exceed the mean for the expected number of delays, \n",
    "# We see that Monday, Thursdays and Friday exceed the mean\n",
    "list = ['Monday','Tuesday','Wednesday','Thursday','Friday','Saturday','Sunday']\n",
    "\n",
    "day_keep=[]\n",
    "\n",
    "for i in list:\n",
    "    test = mydf[mydf.DayOfWeek==(i)].IsDelay.mean()\n",
    "    print test\n",
    "    if test > (mean):\n",
    "        day_keep.append(i)\n",
    "\n",
    "print day_keep"
   ]
  },
  {
   "cell_type": "code",
   "execution_count": 23,
   "metadata": {
    "collapsed": false
   },
   "outputs": [],
   "source": [
    "# As follows, I use 'get_dummies' to convert Monday, Thursdays and Friday to Binary Features\n",
    "these=pd.get_dummies(mydf.DayOfWeek)\n",
    "these=these[day_keep]\n",
    "mydf=mydf.join(these)"
   ]
  },
  {
   "cell_type": "code",
   "execution_count": 24,
   "metadata": {
    "collapsed": false
   },
   "outputs": [],
   "source": [
    "mydf['MONTH'] = mydf.Month.map({12:'Dec',1:'Jan',2:'Feb',3:'Mar',4:'Apr',5:'May',6:'Jun',7:'Jul',8:'Aug',9:'Sep',10:'Oct',11:'Nov'})"
   ]
  },
  {
   "cell_type": "code",
   "execution_count": 28,
   "metadata": {
    "collapsed": false
   },
   "outputs": [
    {
     "name": "stdout",
     "output_type": "stream",
     "text": [
      "0.502022244692\n",
      "0.484796927027\n",
      "0.466521318661\n",
      "0.525359531278\n",
      "0.497825626331\n",
      "0.514737877388\n",
      "0.562654959184\n",
      "0.531381904066\n",
      "0.45820252757\n",
      "0.402867368377\n",
      "0.407276061134\n",
      "0.393158907433\n",
      "['Dec', 'Jan', 'Mar', 'Apr', 'May', 'Jun', 'Jul']\n"
     ]
    }
   ],
   "source": [
    "list=['Dec','Jan','Feb','Mar','Apr','May','Jun','Jul','Aug','Sep','Oct','Nov']\n",
    "\n",
    "month_keep=[]\n",
    "\n",
    "for i in list:\n",
    "    test = mydf[mydf.MONTH==(i)].IsDelay.mean()\n",
    "    print test\n",
    "    if test > (mean):\n",
    "        month_keep.append(i)\n",
    "\n",
    "print month_keep"
   ]
  },
  {
   "cell_type": "code",
   "execution_count": null,
   "metadata": {
    "collapsed": false
   },
   "outputs": [],
   "source": [
    "# As follows, I use 'get_dummies' to convert the ['Dec', 'Jan', 'Mar', 'Apr', 'May', 'Jun', 'Jul'] to features\n",
    "these=pd.get_dummies(mydf.MONTH)\n",
    "these=these[month_keep]\n",
    "mydf=mydf.join(these)"
   ]
  },
  {
   "cell_type": "code",
   "execution_count": 30,
   "metadata": {
    "collapsed": false
   },
   "outputs": [],
   "source": [
    "mydf.TaxiOut=mydf.TaxiOut.fillna(mydf.TaxiOut.mean())"
   ]
  },
  {
   "cell_type": "code",
   "execution_count": 31,
   "metadata": {
    "collapsed": true
   },
   "outputs": [],
   "source": [
    "mydf.TaxiIn=mydf.TaxiIn.fillna(mydf.TaxiIn.mean())"
   ]
  },
  {
   "cell_type": "code",
   "execution_count": 41,
   "metadata": {
    "collapsed": false
   },
   "outputs": [],
   "source": [
    "# Defining x & y vectors for analysis: \n",
    "x=mydf.drop('IsDelay',1)\n",
    "y=mydf.IsDelay"
   ]
  },
  {
   "cell_type": "markdown",
   "metadata": {
    "collapsed": false
   },
   "source": [
    "**0.2.4    MODEL SELECTION & FEATURE SELECTION**:  \n",
    "\n",
    "I will use sklearn’s ‘DecisionTreeClassifier’ algorithm for my initial model. "
   ]
  },
  {
   "cell_type": "code",
   "execution_count": 45,
   "metadata": {
    "collapsed": false
   },
   "outputs": [],
   "source": [
    "# Function accepts a classifier, and then provides output score.. \n",
    "def assess_classifier(classifier,X, Y):\n",
    "    from sklearn import cross_validation\n",
    "    from sklearn import metrics\n",
    "    \n",
    "    \n",
    "    xtrain, xtest, ytrain, ytest = cross_validation.train_test_split(X, Y, test_size=0.2, random_state=1234)\n",
    "    model=classifier\n",
    "    clf = model.fit(xtrain, ytrain)\n",
    "    print clf\n",
    "\n",
    "    #Print the accuracy on the test and training dataset\n",
    "    training_accuracy = clf.score(xtrain, ytrain)\n",
    "    test_accuracy = clf.score(xtest, ytest)\n",
    "    \n",
    "    \n",
    "    #print classifier\n",
    "    #print \"Accuracy on training data: %0.2f\" % (training_accuracy)\n",
    "    print \"Accuracy on test data:     %0.2f\" % (test_accuracy)\n",
    "    \n",
    "\n",
    "    predicted=clf.predict(xtest)\n",
    "    cm=metrics.confusion_matrix(ytest,predicted)\n",
    "    \n",
    "    precision= metrics.average_precision_score(ytest,predicted)\n",
    "    \n",
    "    print \"Precision on training data: %0.2f\" %(precision)\n",
    "    print cm"
   ]
  },
  {
   "cell_type": "code",
   "execution_count": 46,
   "metadata": {
    "collapsed": false
   },
   "outputs": [
    {
     "name": "stdout",
     "output_type": "stream",
     "text": [
      "DecisionTreeClassifier(compute_importances=None, criterion='gini',\n",
      "            max_depth=None, max_features=None, max_leaf_nodes=None,\n",
      "            min_density=None, min_samples_leaf=1, min_samples_split=2,\n",
      "            random_state=None, splitter='best')\n",
      "Accuracy on test data:     0.72\n",
      "Precision on training data: 0.77\n",
      "[[104517  37629]\n",
      " [ 38359  88253]]\n"
     ]
    }
   ],
   "source": [
    "# baseline Decision Tree\n",
    "from sklearn import tree\n",
    "assess_classifier(tree.DecisionTreeClassifier(),x,y)"
   ]
  },
  {
   "cell_type": "markdown",
   "metadata": {},
   "source": [
    "The accuracy of the above model is 0.69.    This ‘baseline’ model can certainly be improved upon.  \n",
    "From the following Gini feature importance list, we can see that the strongest features are 'DepTime','Between'\n",
    "and 'FlightNum'\n",
    " "
   ]
  },
  {
   "cell_type": "code",
   "execution_count": 10,
   "metadata": {
    "collapsed": false
   },
   "outputs": [
    {
     "name": "stdout",
     "output_type": "stream",
     "text": [
      "Month          0.042209\n",
      "DepTime        0.249469\n",
      "Distance       0.078536\n",
      "TaxiOut        0.089550\n",
      "TaxiIn         0.065121\n",
      "FlightNum      0.097623\n",
      "Between        0.183641\n",
      "Best_Origin    0.066412\n",
      "Best_Dest      0.058973\n",
      "Monday         0.011833\n",
      "Thursday       0.011346\n",
      "Friday         0.011643\n",
      "Dec            0.003079\n",
      "Jan            0.004384\n",
      "Mar            0.005097\n",
      "Apr            0.005604\n",
      "May            0.005287\n",
      "Jun            0.005306\n",
      "Jul            0.004887\n",
      "dtype: float64\n"
     ]
    }
   ],
   "source": [
    "from sklearn import tree\n",
    "clf = tree.DecisionTreeClassifier()\n",
    "print pd.Series(clf.fit(x, y).feature_importances_, index=x.columns)"
   ]
  },
  {
   "cell_type": "code",
   "execution_count": 47,
   "metadata": {
    "collapsed": false
   },
   "outputs": [
    {
     "name": "stdout",
     "output_type": "stream",
     "text": [
      "DecisionTreeClassifier(compute_importances=None, criterion='gini',\n",
      "            max_depth=None, max_features=None, max_leaf_nodes=None,\n",
      "            min_density=None, min_samples_leaf=1, min_samples_split=2,\n",
      "            random_state=None, splitter='best')\n",
      "Accuracy on test data:     0.72\n",
      "Precision on training data: 0.77\n",
      "[[105167  36979]\n",
      " [ 37957  88655]]\n"
     ]
    }
   ],
   "source": [
    "from sklearn.tree import DecisionTreeClassifier\n",
    "treeclf = tree.DecisionTreeClassifier()\n",
    "\n",
    "x_tran=clf.fit_transform(x,y)\n",
    "assess_classifier(tree.DecisionTreeClassifier(),x_tran,y)"
   ]
  },
  {
   "cell_type": "markdown",
   "metadata": {
    "collapsed": false
   },
   "source": [
    "**Feature Selection and Model Optimization:**        \n",
    "We can see from the above, that when run a decision tree on our transformed x (feature) array, the Accuracy score improved slighlty (to 0.73).   Note that our feature array has gone from 20 features to 6.\n",
    "\n",
    "I will use the following grid_search SKlearn tool to optimize the Decision Tree Model further.  GridSearch performs an exhaustive search on the Decision Tree parameter values and will return optimal parameters based on the precision score.\n",
    "\n",
    "**Note about scoring:**\n",
    "From here on, I will be using 'precision' as my scoring metric (in lieu of accuracy).  Because (as we will see in the final cost benefit section), I am most concerned about true positives.   As such, precision score will help me optimize the model by maximizing true positives"
   ]
  },
  {
   "cell_type": "code",
   "execution_count": 12,
   "metadata": {
    "collapsed": false
   },
   "outputs": [],
   "source": [
    "from sklearn import cross_validation\n",
    "xtrain, xtest, ytrain, ytest =cross_validation.train_test_split(x_tran, y, test_size=0.2, random_state=1234)"
   ]
  },
  {
   "cell_type": "code",
   "execution_count": 18,
   "metadata": {
    "collapsed": false
   },
   "outputs": [
    {
     "data": {
      "text/plain": [
       "GridSearchCV(cv=None,\n",
       "       estimator=DecisionTreeClassifier(compute_importances=None, criterion='gini',\n",
       "            max_depth=None, max_features=None, max_leaf_nodes=None,\n",
       "            min_density=None, min_samples_leaf=1, min_samples_split=2,\n",
       "            random_state=None, splitter='best'),\n",
       "       fit_params={}, iid=True, loss_func=None, n_jobs=1,\n",
       "       param_grid={'max_features': [1, 6], 'min_samples_split': (10, 100, 1000, 10000), 'max_depth': [1, 6], 'min_samples_leaf': (10, 100, 1000, 10000)},\n",
       "       pre_dispatch='2*n_jobs', refit=True, score_func=None,\n",
       "       scoring='precision', verbose=0)"
      ]
     },
     "execution_count": 18,
     "metadata": {},
     "output_type": "execute_result"
    }
   ],
   "source": [
    "from sklearn.tree import DecisionTreeClassifier\n",
    "from sklearn import grid_search\n",
    "parameters = {'max_depth':[1,6], 'max_features':[1,6], 'min_samples_split':(10,100,1000,10000), 'min_samples_leaf':(10,100,1000,10000)} \n",
    "clf=DecisionTreeClassifier()\n",
    "treeclf = grid_search.GridSearchCV(clf,parameters,scoring='precision')\n",
    "treeclf.fit(xtrain,ytrain)"
   ]
  },
  {
   "cell_type": "code",
   "execution_count": 19,
   "metadata": {
    "collapsed": false
   },
   "outputs": [
    {
     "data": {
      "text/plain": [
       "DecisionTreeClassifier(compute_importances=None, criterion='gini',\n",
       "            max_depth=6, max_features=6, max_leaf_nodes=None,\n",
       "            min_density=None, min_samples_leaf=10, min_samples_split=10000,\n",
       "            random_state=None, splitter='best')"
      ]
     },
     "execution_count": 19,
     "metadata": {},
     "output_type": "execute_result"
    }
   ],
   "source": [
    "treeclf.best_estimator_"
   ]
  },
  {
   "cell_type": "markdown",
   "metadata": {},
   "source": [
    "As per grid_search the following parameters were foudn to be optimal: \n",
    "-   'Max_depth' :  Max depth of tree  Best Result: 6\n",
    "-\t‘Max_features’:   (Number of features to  consider when looking for the best split).  Best Result:  6\n",
    "-\t‘Min_samples_split’: (Min. number of samples required to split an internal node).  Best Result:  10  (chosen from exp. scale of 1 thru 10^5)\n",
    "-\t‘Min_samples_leaf: (Min number of samples required to be at a leaf node).   Best Result: 10 (chosen from exp. scale of 1 thru 10^5)"
   ]
  },
  {
   "cell_type": "markdown",
   "metadata": {},
   "source": [
    "The choice of the the max_depth parameter = 6 can be illustrated with the following visualization: "
   ]
  },
  {
   "cell_type": "code",
   "execution_count": 66,
   "metadata": {
    "collapsed": false
   },
   "outputs": [
    {
     "name": "stdout",
     "output_type": "stream",
     "text": [
      "Best score: 0.766157706646\n",
      "Best depth: 6\n"
     ]
    },
    {
     "data": {
      "text/plain": [
       "<matplotlib.text.Text at 0x1099cd890>"
      ]
     },
     "execution_count": 66,
     "metadata": {},
     "output_type": "execute_result"
    },
    {
     "data": {
      "image/png": "[encoded data removed]",
      "text/plain": [
       "<matplotlib.figure.Figure at 0x1070da0d0>"
      ]
     },
     "metadata": {},
     "output_type": "display_data"
    }
   ],
   "source": [
    "% matplotlib inline\n",
    "from matplotlib import pyplot as plt\n",
    "import seaborn as sns\n",
    "\n",
    "sns.set_style('whitegrid')\n",
    "\n",
    "all_scores = []\n",
    "best_score = 0\n",
    "best_depth = 0\n",
    "\n",
    "best=[1,2,3,4,5,6]\n",
    "for i in best:\n",
    "    treereg = DecisionTreeClassifier(max_depth=i, random_state=1)\n",
    "    scores = cross_val_score(treereg, xtrain, ytrain, cv=3, scoring='roc_auc')\n",
    "    current_score = scores\n",
    "    # If the score mean is better than the current best, or best is the default, then update\n",
    "    if current_score[0] > best_score:\n",
    "        best_score = current_score[0]\n",
    "        best_depth = i\n",
    "    # store to plot anyway!\n",
    "    all_scores.append(current_score)\n",
    "    \n",
    "print \"Best score: %s\" % best_score\n",
    "print \"Best depth: %s\" % best_depth\n",
    "\n",
    "# now actually fit the model\n",
    "treereg = DecisionTreeClassifier(max_depth=best_depth, random_state=1)\n",
    "treereg.fit(x_tran, y)\n",
    "\n",
    "plt.figure()\n",
    "plt.plot(range(1,7), all_scores)\n",
    "plt.xlabel('x=depth')\n"
   ]
  },
  {
   "cell_type": "code",
   "execution_count": 20,
   "metadata": {
    "collapsed": false
   },
   "outputs": [
    {
     "name": "stdout",
     "output_type": "stream",
     "text": [
      "DecisionTreeClassifier(compute_importances=None, criterion='gini',\n",
      "            max_depth=6, max_features=6, max_leaf_nodes=None,\n",
      "            min_density=None, min_samples_leaf=10, min_samples_split=10,\n",
      "            random_state=None, splitter='best')\n",
      "Accuracy on training data: 0.71\n",
      "Precision on training data: 0.76\n"
     ]
    }
   ],
   "source": [
    "treeclf = tree.DecisionTreeClassifier(max_depth=6,max_features=6,min_samples_split=10, min_samples_leaf=10)\n",
    "assess_classifier(treeclf,x_tran,y)"
   ]
  },
  {
   "cell_type": "markdown",
   "metadata": {},
   "source": [
    "**Utilizing Ensemble Methods:**     \n",
    "We can improve upon our Decision Tree scores by using the RandomForest Classifier - \n",
    "The Sklearn RandomForest Classifier allows us to sample trees using \n",
    "the bootstrap method - The best split is chosen among a random sampling of features- (thus,  we will not set specific parameters values) \n",
    "We can improve our model because of this sampling, as bias increases (due to increased sampling) \n",
    "\n",
    "Note our second iteration of RandomForests is composed of 100 Trees - - "
   ]
  },
  {
   "cell_type": "code",
   "execution_count": 48,
   "metadata": {
    "collapsed": false
   },
   "outputs": [
    {
     "name": "stdout",
     "output_type": "stream",
     "text": [
      "RandomForestClassifier(bootstrap=True, compute_importances=None,\n",
      "            criterion='gini', max_depth=None, max_features='auto',\n",
      "            max_leaf_nodes=None, min_density=None, min_samples_leaf=1,\n",
      "            min_samples_split=2, n_estimators=10, n_jobs=1,\n",
      "            oob_score=False, random_state=None, verbose=0)\n",
      "Accuracy on test data:     0.77\n",
      "Precision on training data: 0.82\n",
      "[[119700  22446]\n",
      " [ 38366  88246]]\n"
     ]
    }
   ],
   "source": [
    "from sklearn.ensemble import RandomForestClassifier\n",
    "rfclf=RandomForestClassifier()\n",
    "assess_classifier(rfclf,x_tran,y)"
   ]
  },
  {
   "cell_type": "code",
   "execution_count": 49,
   "metadata": {
    "collapsed": false
   },
   "outputs": [
    {
     "name": "stdout",
     "output_type": "stream",
     "text": [
      "RandomForestClassifier(bootstrap=True, compute_importances=None,\n",
      "            criterion='gini', max_depth=None, max_features='auto',\n",
      "            max_leaf_nodes=None, min_density=None, min_samples_leaf=1,\n",
      "            min_samples_split=2, n_estimators=100, n_jobs=1,\n",
      "            oob_score=False, random_state=None, verbose=0)\n",
      "Accuracy on test data:     0.80\n",
      "Precision on training data: 0.84\n",
      "[[118829  23317]\n",
      " [ 31572  95040]]\n"
     ]
    }
   ],
   "source": [
    "from sklearn.ensemble import RandomForestClassifier\n",
    "rfclf=RandomForestClassifier(n_estimators=100)\n",
    "assess_classifier(rfclf,x_tran,y)"
   ]
  },
  {
   "cell_type": "code",
   "execution_count": 50,
   "metadata": {
    "collapsed": false
   },
   "outputs": [
    {
     "name": "stdout",
     "output_type": "stream",
     "text": [
      "ExtraTreesClassifier(bootstrap=False, compute_importances=None,\n",
      "           criterion='gini', max_depth=None, max_features='auto',\n",
      "           max_leaf_nodes=None, min_density=None, min_samples_leaf=1,\n",
      "           min_samples_split=2, n_estimators=10, n_jobs=1, oob_score=False,\n",
      "           random_state=None, verbose=0)\n",
      "Accuracy on test data:     0.77\n",
      "Precision on training data: 0.82\n",
      "[[119305  22841]\n",
      " [ 38062  88550]]\n"
     ]
    }
   ],
   "source": [
    "from sklearn.ensemble import ExtraTreesClassifier\n",
    "exclf=ExtraTreesClassifier()\n",
    "assess_classifier(exclf,x_tran,y)"
   ]
  },
  {
   "cell_type": "markdown",
   "metadata": {},
   "source": [
    "For our final Decision Tree Refinement step : I will use the ExtraTreesClassifier (using 100 Trees!).\n",
    "The ETC goes one step further than the RandomForest classifer, by randomizing the discriminative threshold for each candidate feature.   This step should ensure a reduction in the model's variance as well as a slight increase in bias.\n",
    "\n",
    "As we can see, below this final step allowed us to increase our final precision score to 0.84."
   ]
  },
  {
   "cell_type": "code",
   "execution_count": 52,
   "metadata": {
    "collapsed": false
   },
   "outputs": [
    {
     "name": "stdout",
     "output_type": "stream",
     "text": [
      "ExtraTreesClassifier(bootstrap=False, compute_importances=None,\n",
      "           criterion='gini', max_depth=None, max_features='auto',\n",
      "           max_leaf_nodes=None, min_density=None, min_samples_leaf=1,\n",
      "           min_samples_split=2, n_estimators=100, n_jobs=1,\n",
      "           oob_score=False, random_state=None, verbose=0)\n",
      "Accuracy on test data:     0.79\n",
      "Precision on training data: 0.83\n",
      "[[117358  24788]\n",
      " [ 30314  96298]]\n"
     ]
    }
   ],
   "source": [
    "from sklearn.ensemble import ExtraTreesClassifier\n",
    "exclf=ExtraTreesClassifier(n_estimators=100)\n",
    "assess_classifier(exclf,x_tran,y)"
   ]
  },
  {
   "cell_type": "markdown",
   "metadata": {},
   "source": [
    "**0.2.5 COST BENEFIT AND CONCLUSION:**   \n",
    "Although our final precision score of 0.83 could be improve upon, this result is acceptable for the subject business application.  \n",
    "\n",
    "\n",
    "The value of correct predictions can be estimated by calculating the amount of money saved by avoiding\n",
    "potential customer late arrival reimbursement fees minus the crew's hourly cost.\n",
    "\n",
    "(CB based on: Approx_#_Filled_seats=130, Reimbursement_per_customer=$25, Approx_crew_hourly=$150, Approx_#_crew=5)\n",
    "\n",
    "ratio of true positive = 0.437      \n",
    "ratio of false positive=0.092     \n",
    "ratio of false negative = .112    \n",
    "\n",
    "saved_by_true_positive_= 0.437*((130*25)-150*5)= 1092     \n",
    "cost_of_false_positive_= 0.092*(150*5)= 69     \n",
    "cost_of_false_negative_= 0.112*(130*25) = 364    \n",
    "(Note that there is no cost associated with a True Negative)\n",
    "\n",
    "The potential cost savings per flight is $659.  \n",
    "SouthWest schedules over a million flights per year.  The potential cost savings is immense.\n",
    "\n"
   ]
  },
  {
   "cell_type": "code",
   "execution_count": null,
   "metadata": {
    "collapsed": true
   },
   "outputs": [],
   "source": []
  }
 ],
 "metadata": {
  "kernelspec": {
   "display_name": "Python 2",
   "language": "python",
   "name": "python2"
  },
  "language_info": {
   "codemirror_mode": {
    "name": "ipython",
    "version": 2
   },
   "file_extension": ".py",
   "mimetype": "text/x-python",
   "name": "python",
   "nbconvert_exporter": "python",
   "pygments_lexer": "ipython2",
   "version": "2.7.9"
  }
 },
 "nbformat": 4,
 "nbformat_minor": 0
}
